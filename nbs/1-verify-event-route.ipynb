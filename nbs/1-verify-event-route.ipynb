{
 "cells": [
  {
   "cell_type": "code",
   "execution_count": 27,
   "id": "c87018a2",
   "metadata": {},
   "outputs": [],
   "source": [
    "import  requests\n",
    "import json"
   ]
  },
  {
   "cell_type": "code",
   "execution_count": null,
   "id": "8049e571",
   "metadata": {},
   "outputs": [
    {
     "data": {
      "text/plain": [
       "'http://localhost:8002/api/events/12'"
      ]
     },
     "execution_count": 30,
     "metadata": {},
     "output_type": "execute_result"
    }
   ],
   "source": [
    "path=\"/api/events/12\"\n",
    "base_url=\"http://localhost:8002\"\n",
    "endpoint=f\"{base_url}{path}\"\n",
    "endpoint"
   ]
  },
  {
   "cell_type": "code",
   "execution_count": 31,
   "id": "6c780d7d",
   "metadata": {},
   "outputs": [
    {
     "name": "stdout",
     "output_type": "stream",
     "text": [
      "{'id': 12} \n",
      " <class 'dict'> \n",
      " None\n"
     ]
    }
   ],
   "source": [
    "response=requests.get(endpoint)\n",
    "if response.ok:\n",
    "    data=response.json()\n",
    "    print(data,\"\\n\",type(data),\"\\n\",data.get('items'))"
   ]
  },
  {
   "cell_type": "code",
   "execution_count": null,
   "id": "f23909e1",
   "metadata": {},
   "outputs": [],
   "source": []
  },
  {
   "cell_type": "code",
   "execution_count": 19,
   "id": "7b8fbd1a",
   "metadata": {},
   "outputs": [],
   "source": [
    "response = requests.get(endpoint) ## http get"
   ]
  },
  {
   "cell_type": "code",
   "execution_count": 20,
   "id": "b1b0d93e",
   "metadata": {},
   "outputs": [
    {
     "name": "stdout",
     "output_type": "stream",
     "text": [
      "{\"results\":[{\"id\":1,\"page\":\"\",\"description\":\"\"},{\"id\":2,\"page\":\"\",\"description\":\"\"}],\"count\":2}\n",
      "True\n",
      "{'date': 'Tue, 22 Apr 2025 13:02:22 GMT', 'server': 'uvicorn', 'content-length': '95', 'content-type': 'application/json'}\n"
     ]
    }
   ],
   "source": [
    "response = requests.get(endpoint) ## http post  send data to server\n",
    "print(response.text)\n",
    "print(response.ok)\n",
    "print(response.headers)"
   ]
  },
  {
   "cell_type": "code",
   "execution_count": 6,
   "id": "47b254da",
   "metadata": {},
   "outputs": [],
   "source": [
    "import json"
   ]
  },
  {
   "cell_type": "code",
   "execution_count": 7,
   "id": "5dfcf426",
   "metadata": {},
   "outputs": [
    {
     "name": "stdout",
     "output_type": "stream",
     "text": [
      "True\n",
      "{\"results\":[{\"id\":1},{\"id\":2}],\"count\":2}\n",
      "{'date': 'Tue, 22 Apr 2025 10:38:54 GMT', 'server': 'uvicorn', 'content-length': '41', 'content-type': 'application/json'}\n"
     ]
    }
   ],
   "source": [
    "print(response.ok)\n",
    "print(response.text)\n",
    "print(response.headers)"
   ]
  },
  {
   "cell_type": "code",
   "execution_count": 8,
   "id": "96508684",
   "metadata": {},
   "outputs": [
    {
     "name": "stdout",
     "output_type": "stream",
     "text": [
      "{'results': [{'id': 1}, {'id': 2}], 'count': 2}\n",
      "<class 'dict'>\n",
      "None\n",
      "{'results': [{'id': 1}, {'id': 2}], 'count': 2}\n"
     ]
    }
   ],
   "source": [
    "if response.ok:\n",
    "    df=response.json()\n",
    "   # print(response.text)\n",
    "    print(df)\n",
    "    print(type(df))\n",
    "    print(df.get(\"items\"))\n",
    "    print(response.json())"
   ]
  },
  {
   "cell_type": "code",
   "execution_count": null,
   "id": "4441a9b0",
   "metadata": {},
   "outputs": [],
   "source": []
  },
  {
   "cell_type": "code",
   "execution_count": null,
   "id": "2d0c7210",
   "metadata": {},
   "outputs": [],
   "source": []
  }
 ],
 "metadata": {
  "kernelspec": {
   "display_name": ".venv (3.12.3)",
   "language": "python",
   "name": "python3"
  },
  "language_info": {
   "codemirror_mode": {
    "name": "ipython",
    "version": 3
   },
   "file_extension": ".py",
   "mimetype": "text/x-python",
   "name": "python",
   "nbconvert_exporter": "python",
   "pygments_lexer": "ipython3",
   "version": "3.12.3"
  }
 },
 "nbformat": 4,
 "nbformat_minor": 5
}
