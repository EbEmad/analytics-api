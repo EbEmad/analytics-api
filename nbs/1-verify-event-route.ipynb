{
 "cells": [
  {
   "cell_type": "code",
   "execution_count": 33,
   "id": "c87018a2",
   "metadata": {},
   "outputs": [],
   "source": [
    "import  requests"
   ]
  },
  {
   "cell_type": "code",
   "execution_count": 50,
   "id": "8049e571",
   "metadata": {},
   "outputs": [
    {
     "data": {
      "text/plain": [
       "'http://localhost:8002/api/events'"
      ]
     },
     "execution_count": 50,
     "metadata": {},
     "output_type": "execute_result"
    }
   ],
   "source": [
    "path=\"/api/events\"\n",
    "base_url=\"http://localhost:8002\"\n",
    "endpoint=f\"{base_url}{path}\"\n",
    "endpoint"
   ]
  },
  {
   "cell_type": "code",
   "execution_count": 57,
   "id": "7b8fbd1a",
   "metadata": {},
   "outputs": [],
   "source": [
    "response = requests.get(endpoint) ## http get"
   ]
  },
  {
   "cell_type": "code",
   "execution_count": 58,
   "id": "5dfcf426",
   "metadata": {},
   "outputs": [
    {
     "name": "stdout",
     "output_type": "stream",
     "text": [
      "True\n",
      "{\"result\":[{\"id\":1},{\"id\":2},{\"id\":3}],\"count\":2003}\n"
     ]
    }
   ],
   "source": [
    "print(response.ok)\n",
    "print(response.text)"
   ]
  },
  {
   "cell_type": "code",
   "execution_count": 59,
   "id": "96508684",
   "metadata": {},
   "outputs": [
    {
     "name": "stdout",
     "output_type": "stream",
     "text": [
      "{'result': [{'id': 1}, {'id': 2}, {'id': 3}], 'count': 2003}\n",
      "<class 'dict'>\n",
      "None\n"
     ]
    }
   ],
   "source": [
    "if response.ok:\n",
    "    df=response.json()\n",
    "    print(df)\n",
    "    print(type(df))\n",
    "    print(df.get(\"items\"))"
   ]
  },
  {
   "cell_type": "code",
   "execution_count": null,
   "id": "4441a9b0",
   "metadata": {},
   "outputs": [],
   "source": []
  },
  {
   "cell_type": "code",
   "execution_count": null,
   "id": "2d0c7210",
   "metadata": {},
   "outputs": [],
   "source": []
  }
 ],
 "metadata": {
  "kernelspec": {
   "display_name": "venv",
   "language": "python",
   "name": "python3"
  },
  "language_info": {
   "codemirror_mode": {
    "name": "ipython",
    "version": 3
   },
   "file_extension": ".py",
   "mimetype": "text/x-python",
   "name": "python",
   "nbconvert_exporter": "python",
   "pygments_lexer": "ipython3",
   "version": "3.12.7"
  }
 },
 "nbformat": 4,
 "nbformat_minor": 5
}
