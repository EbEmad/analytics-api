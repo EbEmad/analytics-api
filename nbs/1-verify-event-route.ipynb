{
 "cells": [
  {
   "cell_type": "code",
   "execution_count": 10,
   "id": "c87018a2",
   "metadata": {},
   "outputs": [],
   "source": [
    "import  requests"
   ]
  },
  {
   "cell_type": "code",
   "execution_count": 11,
   "id": "8049e571",
   "metadata": {},
   "outputs": [
    {
     "data": {
      "text/plain": [
       "'http://localhost:8002/api/events/'"
      ]
     },
     "execution_count": 11,
     "metadata": {},
     "output_type": "execute_result"
    }
   ],
   "source": [
    "path=\"/api/events/\"\n",
    "base_url=\"http://localhost:8002\"\n",
    "endpoint=f\"{base_url}{path}\"\n",
    "endpoint"
   ]
  },
  {
   "cell_type": "code",
   "execution_count": 12,
   "id": "f23909e1",
   "metadata": {},
   "outputs": [],
   "source": [
    "import json"
   ]
  },
  {
   "cell_type": "code",
   "execution_count": 13,
   "id": "7b8fbd1a",
   "metadata": {},
   "outputs": [],
   "source": [
    "response = requests.get(endpoint) ## http get"
   ]
  },
  {
   "cell_type": "code",
   "execution_count": 15,
   "id": "b1b0d93e",
   "metadata": {},
   "outputs": [
    {
     "name": "stdout",
     "output_type": "stream",
     "text": [
      "{\"results\":[{\"id\":1,\"page\":\"\",\"description\":\"\"},{\"id\":2,\"page\":\"\",\"description\":\"\"}],\"count\":2}\n",
      "True\n",
      "{'date': 'Tue, 22 Apr 2025 12:52:49 GMT', 'server': 'uvicorn', 'content-length': '95', 'content-type': 'application/json'}\n"
     ]
    }
   ],
   "source": [
    "response = requests.get(endpoint) ## http post  send data to server\n",
    "print(response.text)\n",
    "print(response.ok)\n",
    "print(response.headers)"
   ]
  },
  {
   "cell_type": "code",
   "execution_count": 6,
   "id": "47b254da",
   "metadata": {},
   "outputs": [],
   "source": [
    "import json"
   ]
  },
  {
   "cell_type": "code",
   "execution_count": 7,
   "id": "5dfcf426",
   "metadata": {},
   "outputs": [
    {
     "name": "stdout",
     "output_type": "stream",
     "text": [
      "True\n",
      "{\"results\":[{\"id\":1},{\"id\":2}],\"count\":2}\n",
      "{'date': 'Tue, 22 Apr 2025 10:38:54 GMT', 'server': 'uvicorn', 'content-length': '41', 'content-type': 'application/json'}\n"
     ]
    }
   ],
   "source": [
    "print(response.ok)\n",
    "print(response.text)\n",
    "print(response.headers)"
   ]
  },
  {
   "cell_type": "code",
   "execution_count": 8,
   "id": "96508684",
   "metadata": {},
   "outputs": [
    {
     "name": "stdout",
     "output_type": "stream",
     "text": [
      "{'results': [{'id': 1}, {'id': 2}], 'count': 2}\n",
      "<class 'dict'>\n",
      "None\n",
      "{'results': [{'id': 1}, {'id': 2}], 'count': 2}\n"
     ]
    }
   ],
   "source": [
    "if response.ok:\n",
    "    df=response.json()\n",
    "   # print(response.text)\n",
    "    print(df)\n",
    "    print(type(df))\n",
    "    print(df.get(\"items\"))\n",
    "    print(response.json())"
   ]
  },
  {
   "cell_type": "code",
   "execution_count": null,
   "id": "4441a9b0",
   "metadata": {},
   "outputs": [],
   "source": []
  },
  {
   "cell_type": "code",
   "execution_count": null,
   "id": "2d0c7210",
   "metadata": {},
   "outputs": [],
   "source": []
  }
 ],
 "metadata": {
  "kernelspec": {
   "display_name": "venv",
   "language": "python",
   "name": "python3"
  },
  "language_info": {
   "codemirror_mode": {
    "name": "ipython",
    "version": 3
   },
   "file_extension": ".py",
   "mimetype": "text/x-python",
   "name": "python",
   "nbconvert_exporter": "python",
   "pygments_lexer": "ipython3",
   "version": "3.12.7"
  }
 },
 "nbformat": 4,
 "nbformat_minor": 5
}
