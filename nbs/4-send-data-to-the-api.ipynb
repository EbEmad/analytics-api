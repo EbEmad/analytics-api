{
 "cells": [
  {
   "cell_type": "code",
   "execution_count": 1,
   "id": "4c98269a",
   "metadata": {},
   "outputs": [],
   "source": [
    "import requests\n",
    "import json"
   ]
  },
  {
   "cell_type": "code",
   "execution_count": 53,
   "id": "b3952671",
   "metadata": {},
   "outputs": [
    {
     "data": {
      "text/plain": [
       "'http://localhost:8002/api/events'"
      ]
     },
     "execution_count": 53,
     "metadata": {},
     "output_type": "execute_result"
    }
   ],
   "source": [
    "path='/api/events'\n",
    "base_uri='http://localhost:8002'\n",
    "endpoint=f\"{base_uri}{path}\"\n",
    "endpoint"
   ]
  },
  {
   "cell_type": "code",
   "execution_count": 54,
   "id": "4a39768c",
   "metadata": {},
   "outputs": [
    {
     "name": "stdout",
     "output_type": "stream",
     "text": [
      "{'date': 'Tue, 02 Sep 2025 08:15:27 GMT', 'server': 'uvicorn', 'content-length': '44', 'content-type': 'application/json'}\n"
     ]
    }
   ],
   "source": [
    "data={\"page\":\"/ebemad\"}\n",
    "headers={\n",
    "    \"Content-Type\":\"application/json\"\n",
    "}\n",
    "response=requests.post(endpoint,data=json.dumps(data),headers=headers)\n",
    "print(response.headers)"
   ]
  },
  {
   "cell_type": "code",
   "execution_count": 50,
   "id": "d57a6174",
   "metadata": {},
   "outputs": [
    {
     "name": "stdout",
     "output_type": "stream",
     "text": [
      "{'id': 123, 'page': '/ebemad', 'description': ''}\n"
     ]
    }
   ],
   "source": [
    "if response.ok:\n",
    "    data=response.json()\n",
    "    print(data)\n",
    "else:\n",
    "    print(response.text)"
   ]
  },
  {
   "cell_type": "code",
   "execution_count": 51,
   "id": "ebd759db",
   "metadata": {},
   "outputs": [
    {
     "name": "stdout",
     "output_type": "stream",
     "text": [
      "{'date': 'Tue, 02 Sep 2025 07:29:17 GMT', 'server': 'uvicorn', 'content-length': '47', 'content-type': 'application/json'}\n"
     ]
    }
   ],
   "source": [
    "path='/api/events/15'\n",
    "base_uri='http://localhost:8002'\n",
    "endpoint=f\"{base_uri}{path}\"\n",
    "endpoint\n",
    "response=requests.put(endpoint,json={\"description\":\"hello world\"})\n",
    "print(response.headers)"
   ]
  },
  {
   "cell_type": "code",
   "execution_count": 55,
   "id": "53b7a0ba",
   "metadata": {},
   "outputs": [
    {
     "name": "stdout",
     "output_type": "stream",
     "text": [
      "{'id': 123, 'page': '/ebemad', 'description': ''}\n"
     ]
    }
   ],
   "source": [
    "if response.ok:\n",
    "    data=response.json()\n",
    "    print(data)\n",
    "else:\n",
    "    print(response.text)"
   ]
  },
  {
   "cell_type": "code",
   "execution_count": null,
   "id": "d906a1e4",
   "metadata": {},
   "outputs": [],
   "source": []
  },
  {
   "cell_type": "code",
   "execution_count": null,
   "id": "1ede72cc",
   "metadata": {},
   "outputs": [],
   "source": []
  }
 ],
 "metadata": {
  "kernelspec": {
   "display_name": ".venv (3.12.3)",
   "language": "python",
   "name": "python3"
  },
  "language_info": {
   "codemirror_mode": {
    "name": "ipython",
    "version": 3
   },
   "file_extension": ".py",
   "mimetype": "text/x-python",
   "name": "python",
   "nbconvert_exporter": "python",
   "pygments_lexer": "ipython3",
   "version": "3.12.3"
  }
 },
 "nbformat": 4,
 "nbformat_minor": 5
}
