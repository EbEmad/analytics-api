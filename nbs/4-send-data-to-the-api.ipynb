{
 "cells": [
  {
   "cell_type": "code",
   "execution_count": 1,
   "id": "4c98269a",
   "metadata": {},
   "outputs": [],
   "source": [
    "import requests\n",
    "import json"
   ]
  },
  {
   "cell_type": "code",
   "execution_count": 14,
   "id": "b3952671",
   "metadata": {},
   "outputs": [
    {
     "data": {
      "text/plain": [
       "'http://localhost:8002/api/events'"
      ]
     },
     "execution_count": 14,
     "metadata": {},
     "output_type": "execute_result"
    }
   ],
   "source": [
    "path='/api/events'\n",
    "base_uri='http://localhost:8002'\n",
    "endpoint=f\"{base_uri}{path}\"\n",
    "endpoint"
   ]
  },
  {
   "cell_type": "code",
   "execution_count": 15,
   "id": "4a39768c",
   "metadata": {},
   "outputs": [
    {
     "name": "stdout",
     "output_type": "stream",
     "text": [
      "{'date': 'Sun, 07 Sep 2025 07:03:28 GMT', 'server': 'uvicorn', 'content-length': '21', 'content-type': 'text/plain; charset=utf-8'}\n"
     ]
    }
   ],
   "source": [
    "data={\"page\":\"Anas\"}\n",
    "headers={\n",
    "    \"Content-Type\":\"application/json\"\n",
    "}\n",
    "response=requests.post(endpoint,data=json.dumps(data),headers=headers)\n",
    "print(response.headers)"
   ]
  },
  {
   "cell_type": "code",
   "execution_count": 13,
   "id": "d57a6174",
   "metadata": {},
   "outputs": [
    {
     "name": "stdout",
     "output_type": "stream",
     "text": [
      "{'page': 'Anas', 'description': '', 'id': 3}\n"
     ]
    }
   ],
   "source": [
    "if response.ok:\n",
    "    data=response.json()\n",
    "    print(data)\n",
    "else:\n",
    "    print(response.text)"
   ]
  },
  {
   "cell_type": "code",
   "execution_count": 5,
   "id": "ebd759db",
   "metadata": {},
   "outputs": [
    {
     "name": "stdout",
     "output_type": "stream",
     "text": [
      "{'date': 'Sun, 07 Sep 2025 07:00:02 GMT', 'server': 'uvicorn', 'content-length': '47', 'content-type': 'application/json'}\n"
     ]
    }
   ],
   "source": [
    "path='/api/events/15'\n",
    "base_uri='http://localhost:8002'\n",
    "endpoint=f\"{base_uri}{path}\"\n",
    "endpoint\n",
    "response=requests.put(endpoint,json={\"description\":\"hello world\"})\n",
    "print(response.headers)"
   ]
  },
  {
   "cell_type": "code",
   "execution_count": 6,
   "id": "53b7a0ba",
   "metadata": {},
   "outputs": [
    {
     "name": "stdout",
     "output_type": "stream",
     "text": [
      "{'id': 15, 'description': 'hello world', 'page': ''}\n"
     ]
    }
   ],
   "source": [
    "if response.ok:\n",
    "    data=response.json()\n",
    "    print(data)\n",
    "else:\n",
    "    print(response.text)"
   ]
  },
  {
   "cell_type": "code",
   "execution_count": null,
   "id": "d906a1e4",
   "metadata": {},
   "outputs": [],
   "source": []
  },
  {
   "cell_type": "code",
   "execution_count": null,
   "id": "1ede72cc",
   "metadata": {},
   "outputs": [],
   "source": []
  }
 ],
 "metadata": {
  "kernelspec": {
   "display_name": ".venv (3.12.3)",
   "language": "python",
   "name": "python3"
  },
  "language_info": {
   "codemirror_mode": {
    "name": "ipython",
    "version": 3
   },
   "file_extension": ".py",
   "mimetype": "text/x-python",
   "name": "python",
   "nbconvert_exporter": "python",
   "pygments_lexer": "ipython3",
   "version": "3.12.3"
  }
 },
 "nbformat": 4,
 "nbformat_minor": 5
}
