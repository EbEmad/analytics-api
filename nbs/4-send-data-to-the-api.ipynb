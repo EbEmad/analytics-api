{
 "cells": [
  {
   "cell_type": "code",
   "execution_count": 20,
   "id": "4c98269a",
   "metadata": {},
   "outputs": [],
   "source": [
    "import requests\n",
    "import json"
   ]
  },
  {
   "cell_type": "code",
   "execution_count": 24,
   "id": "b3952671",
   "metadata": {},
   "outputs": [
    {
     "data": {
      "text/plain": [
       "'http://localhost:8002/api/events'"
      ]
     },
     "execution_count": 24,
     "metadata": {},
     "output_type": "execute_result"
    }
   ],
   "source": [
    "path='/api/events'\n",
    "base_uri='http://localhost:8002'\n",
    "endpoint=f\"{base_uri}{path}\"\n",
    "endpoint"
   ]
  },
  {
   "cell_type": "code",
   "execution_count": 39,
   "id": "4a39768c",
   "metadata": {},
   "outputs": [],
   "source": [
    "data={\"page\":\"/ebemad\"}\n",
    "headers={\n",
    "    \"Content-Type\":\"application/json\"\n",
    "}"
   ]
  },
  {
   "cell_type": "code",
   "execution_count": 42,
   "id": "ebd759db",
   "metadata": {},
   "outputs": [
    {
     "name": "stdout",
     "output_type": "stream",
     "text": [
      "{'date': 'Mon, 01 Sep 2025 09:47:46 GMT', 'server': 'uvicorn', 'content-length': '10', 'content-type': 'application/json'}\n"
     ]
    }
   ],
   "source": [
    "response=requests.post(endpoint,data=json.dumps(data),headers=headers)\n",
    "print(response.headers)"
   ]
  },
  {
   "cell_type": "code",
   "execution_count": 43,
   "id": "53b7a0ba",
   "metadata": {},
   "outputs": [
    {
     "name": "stdout",
     "output_type": "stream",
     "text": [
      "{'id': 123}\n"
     ]
    }
   ],
   "source": [
    "if response.ok:\n",
    "    data=response.json()\n",
    "    print(data)"
   ]
  },
  {
   "cell_type": "code",
   "execution_count": null,
   "id": "d906a1e4",
   "metadata": {},
   "outputs": [],
   "source": []
  }
 ],
 "metadata": {
  "kernelspec": {
   "display_name": ".venv (3.12.3)",
   "language": "python",
   "name": "python3"
  },
  "language_info": {
   "codemirror_mode": {
    "name": "ipython",
    "version": 3
   },
   "file_extension": ".py",
   "mimetype": "text/x-python",
   "name": "python",
   "nbconvert_exporter": "python",
   "pygments_lexer": "ipython3",
   "version": "3.12.3"
  }
 },
 "nbformat": 4,
 "nbformat_minor": 5
}
