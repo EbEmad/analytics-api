{
 "cells": [
  {
   "cell_type": "code",
   "execution_count": 5,
   "id": "d0cc0891",
   "metadata": {},
   "outputs": [
    {
     "data": {
      "text/plain": [
       "'{\"page\": \"/test+\"}'"
      ]
     },
     "execution_count": 5,
     "metadata": {},
     "output_type": "execute_result"
    }
   ],
   "source": [
    "import  requests\n",
    "import json\n",
    "data={'page':'/test+'}\n",
    "json.dumps(data)\n"
   ]
  },
  {
   "cell_type": "code",
   "execution_count": 6,
   "id": "fc126016",
   "metadata": {},
   "outputs": [
    {
     "data": {
      "text/plain": [
       "'http://localhost:8002/api/events/2003'"
      ]
     },
     "execution_count": 6,
     "metadata": {},
     "output_type": "execute_result"
    }
   ],
   "source": [
    "path=\"/api/events/2003\"\n",
    "base_url=\"http://localhost:8002\"\n",
    "endpoint=f\"{base_url}{path}\"\n",
    "endpoint"
   ]
  },
  {
   "cell_type": "code",
   "execution_count": 7,
   "id": "f9e9d784",
   "metadata": {},
   "outputs": [
    {
     "name": "stdout",
     "output_type": "stream",
     "text": [
      "Internal Server Error\n",
      "False\n"
     ]
    }
   ],
   "source": [
    "response=requests.put(endpoint,json={\"description\":\"hellow world\"})\n",
    "print(response.text)\n",
    "print(response.ok)\n"
   ]
  },
  {
   "cell_type": "code",
   "execution_count": null,
   "id": "ca51984c",
   "metadata": {},
   "outputs": [],
   "source": []
  }
 ],
 "metadata": {
  "kernelspec": {
   "display_name": "venv",
   "language": "python",
   "name": "python3"
  },
  "language_info": {
   "codemirror_mode": {
    "name": "ipython",
    "version": 3
   },
   "file_extension": ".py",
   "mimetype": "text/x-python",
   "name": "python",
   "nbconvert_exporter": "python",
   "pygments_lexer": "ipython3",
   "version": "3.12.7"
  }
 },
 "nbformat": 4,
 "nbformat_minor": 5
}
